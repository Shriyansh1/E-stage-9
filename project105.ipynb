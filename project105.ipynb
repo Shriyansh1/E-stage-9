{
  "nbformat": 4,
  "nbformat_minor": 0,
  "metadata": {
    "colab": {
      "provenance": [],
      "authorship_tag": "ABX9TyOm2v6xBPNjo4G6yhcVrNbE",
      "include_colab_link": true
    },
    "kernelspec": {
      "name": "python3",
      "display_name": "Python 3"
    },
    "language_info": {
      "name": "python"
    }
  },
  "cells": [
    {
      "cell_type": "markdown",
      "metadata": {
        "id": "view-in-github",
        "colab_type": "text"
      },
      "source": [
        "<a href=\"https://colab.research.google.com/github/Shriyansh1/E-stage-9/blob/main/project105.ipynb\" target=\"_parent\"><img src=\"https://colab.research.google.com/assets/colab-badge.svg\" alt=\"Open In Colab\"/></a>"
      ]
    },
    {
      "cell_type": "code",
      "execution_count": 1,
      "metadata": {
        "colab": {
          "base_uri": "https://localhost:8080/"
        },
        "id": "3G5IC2LyoCCr",
        "outputId": "a81b2e61-ab59-436a-f9b2-7516b0d074d1"
      },
      "outputs": [
        {
          "output_type": "stream",
          "name": "stdout",
          "text": [
            "Enter the year to be checked 2050\n",
            "year is not a leap year \n"
          ]
        }
      ],
      "source": [
        "Year=int(input(\"Enter the year to be checked \"))\n",
        "if(Year%4==0 and Year%400==0):\n",
        "  print(\"the year is leap year \")\n",
        "else:\n",
        "  print(\"year is not a leap year \")"
      ]
    },
    {
      "cell_type": "code",
      "source": [
        "Height=int(input(\"Enter the height in cm \"))\n",
        "inch=0.394*Height\n",
        "Feet=0.0328*Height\n",
        "print(\"the lenght in inches is \",inch)\n",
        "print(\"the lenght in feet is \",Feet)"
      ],
      "metadata": {
        "colab": {
          "base_uri": "https://localhost:8080/"
        },
        "id": "4OVg8BCgp3sf",
        "outputId": "4d5d473d-e98f-4ddb-e3c8-55b123682542"
      },
      "execution_count": 2,
      "outputs": [
        {
          "output_type": "stream",
          "name": "stdout",
          "text": [
            "Enter the height in cm 154\n",
            "the lenght in inches is  60.676\n",
            "the lenght in feet is  5.051200000000001\n"
          ]
        }
      ]
    }
  ]
}